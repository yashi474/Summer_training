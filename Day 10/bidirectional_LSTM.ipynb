{
  "nbformat": 4,
  "nbformat_minor": 0,
  "metadata": {
    "colab": {
      "name": "bidirectional LSTM.ipynb",
      "provenance": []
    },
    "kernelspec": {
      "name": "python3",
      "display_name": "Python 3"
    },
    "language_info": {
      "name": "python"
    }
  },
  "cells": [
    {
      "cell_type": "code",
      "execution_count": 1,
      "metadata": {
        "id": "R_DEIwUy5jW-"
      },
      "outputs": [],
      "source": [
        "import numpy as np\n",
        "from keras.datasets import imdb\n",
        "from keras.layers import Dense, Dropout, Embedding, LSTM, Bidirectional\n",
        "from keras.models import Sequential\n",
        "from keras.preprocessing import sequence\n",
        "from matplotlib import pyplot"
      ]
    },
    {
      "cell_type": "code",
      "source": [
        "n_unique_words = 10000  # cut texts after this number of words\n",
        "maxlen = 200\n",
        "batch_size = 128"
      ],
      "metadata": {
        "id": "gdUHptFO5kCv"
      },
      "execution_count": 2,
      "outputs": []
    },
    {
      "cell_type": "code",
      "source": [
        "(x_train, y_train), (x_test, y_test) = imdb.load_data(num_words=n_unique_words)\n",
        "x_train = sequence.pad_sequences(x_train, maxlen=maxlen)\n",
        "x_test = sequence.pad_sequences(x_test, maxlen=maxlen)\n",
        "y_train = np.array(y_train)\n",
        "y_test = np.array(y_test)\n"
      ],
      "metadata": {
        "colab": {
          "base_uri": "https://localhost:8080/"
        },
        "id": "CY8hh-n35o-v",
        "outputId": "916bd94e-d72e-4c24-e6ce-c6dcf64dc7d0"
      },
      "execution_count": 3,
      "outputs": [
        {
          "output_type": "stream",
          "name": "stdout",
          "text": [
            "Downloading data from https://storage.googleapis.com/tensorflow/tf-keras-datasets/imdb.npz\n",
            "17465344/17464789 [==============================] - 0s 0us/step\n",
            "17473536/17464789 [==============================] - 0s 0us/step\n"
          ]
        }
      ]
    },
    {
      "cell_type": "code",
      "source": [
        "model = Sequential()\n",
        "model.add(Embedding(n_unique_words, 128, input_length=maxlen))\n",
        "model.add(Bidirectional(LSTM(64)))\n",
        "model.add(Dropout(0.5))\n",
        "model.add(Dense(1, activation='sigmoid'))\n",
        "model.compile(loss='binary_crossentropy', optimizer='adam', metrics=['accuracy'])"
      ],
      "metadata": {
        "id": "8KPO2CHX5p5O"
      },
      "execution_count": 4,
      "outputs": []
    },
    {
      "cell_type": "code",
      "source": [
        "history = model.fit(x_train, y_train, batch_size=batch_size, epochs=12, validation_data=[x_test, y_test])\n",
        "print(history.history['loss'])\n",
        "print(history.history['accuracy'])"
      ],
      "metadata": {
        "colab": {
          "base_uri": "https://localhost:8080/"
        },
        "id": "lv9zFdO25st-",
        "outputId": "bf2e7bb1-96dd-4b9a-9bb1-2b269f279266"
      },
      "execution_count": 5,
      "outputs": [
        {
          "output_type": "stream",
          "name": "stdout",
          "text": [
            "Epoch 1/12\n",
            "196/196 [==============================] - 189s 929ms/step - loss: 0.4467 - accuracy: 0.7817 - val_loss: 0.3279 - val_accuracy: 0.8556\n",
            "Epoch 2/12\n",
            "196/196 [==============================] - 179s 915ms/step - loss: 0.2457 - accuracy: 0.9053 - val_loss: 0.3128 - val_accuracy: 0.8656\n",
            "Epoch 3/12\n",
            "196/196 [==============================] - 178s 908ms/step - loss: 0.1817 - accuracy: 0.9322 - val_loss: 0.3347 - val_accuracy: 0.8673\n",
            "Epoch 4/12\n",
            "196/196 [==============================] - 178s 910ms/step - loss: 0.1370 - accuracy: 0.9512 - val_loss: 0.3862 - val_accuracy: 0.8548\n",
            "Epoch 5/12\n",
            "196/196 [==============================] - 177s 903ms/step - loss: 0.1172 - accuracy: 0.9588 - val_loss: 0.4241 - val_accuracy: 0.8587\n",
            "Epoch 6/12\n",
            "196/196 [==============================] - 183s 934ms/step - loss: 0.1026 - accuracy: 0.9642 - val_loss: 0.5320 - val_accuracy: 0.8546\n",
            "Epoch 7/12\n",
            "196/196 [==============================] - 180s 921ms/step - loss: 0.0760 - accuracy: 0.9761 - val_loss: 0.5517 - val_accuracy: 0.8559\n",
            "Epoch 8/12\n",
            "196/196 [==============================] - 179s 913ms/step - loss: 0.0655 - accuracy: 0.9786 - val_loss: 0.5129 - val_accuracy: 0.8548\n",
            "Epoch 9/12\n",
            "196/196 [==============================] - 176s 898ms/step - loss: 0.0517 - accuracy: 0.9843 - val_loss: 0.7145 - val_accuracy: 0.8518\n",
            "Epoch 10/12\n",
            "196/196 [==============================] - 181s 924ms/step - loss: 0.0984 - accuracy: 0.9658 - val_loss: 0.4628 - val_accuracy: 0.8490\n",
            "Epoch 11/12\n",
            "196/196 [==============================] - 182s 931ms/step - loss: 0.0618 - accuracy: 0.9808 - val_loss: 0.5843 - val_accuracy: 0.8528\n",
            "Epoch 12/12\n",
            "196/196 [==============================] - 184s 937ms/step - loss: 0.0422 - accuracy: 0.9878 - val_loss: 0.7047 - val_accuracy: 0.8526\n",
            "[0.44667842984199524, 0.2457314133644104, 0.18166187405586243, 0.13697171211242676, 0.11716650426387787, 0.10261201858520508, 0.07596057653427124, 0.06551632285118103, 0.05170454457402229, 0.09839904308319092, 0.06175118312239647, 0.0421711765229702]\n",
            "[0.7816799879074097, 0.9052799940109253, 0.9322400093078613, 0.9512400031089783, 0.958840012550354, 0.9642000198364258, 0.9760800004005432, 0.9785599708557129, 0.984279990196228, 0.9658399820327759, 0.9807599782943726, 0.9878000020980835]\n"
          ]
        }
      ]
    },
    {
      "cell_type": "code",
      "source": [
        "pyplot.plot(history.history['loss'])\n",
        "pyplot.plot(history.history['accuracy'])\n",
        "pyplot.title('Model Loss vs Accuracy')\n",
        "pyplot.xlabel('Epoch')\n",
        "pyplot.legend(['Loss', 'Accuracy'], loc='upper right')\n",
        "pyplot.show()"
      ],
      "metadata": {
        "colab": {
          "base_uri": "https://localhost:8080/",
          "height": 295
        },
        "id": "KZdmlvnl5vNu",
        "outputId": "920765a0-f285-4748-8b5d-8806e82b698c"
      },
      "execution_count": 6,
      "outputs": [
        {
          "output_type": "display_data",
          "data": {
            "text/plain": [
              "<Figure size 432x288 with 1 Axes>"
            ],
            "image/png": "[encoded data removed]"
          },
          "metadata": {
            "needs_background": "light"
          }
        }
      ]
    }
  ]
}